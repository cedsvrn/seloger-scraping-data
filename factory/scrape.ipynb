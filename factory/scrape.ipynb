{
 "cells": [
  {
   "cell_type": "code",
   "execution_count": null,
   "metadata": {},
   "outputs": [],
   "source": [
    "import requests\n",
    "import urllib.request\n",
    "import time\n",
    "from bs4 import BeautifulSoup\n",
    "import pandas as pd\n",
    "import sys"
   ]
  },
  {
   "cell_type": "code",
   "execution_count": null,
   "metadata": {},
   "outputs": [],
   "source": [
    "url = 'https://www.seloger.com/immobilier/achat/immo-montigny-les-cormeilles-95/bien-appartement/'"
   ]
  },
  {
   "cell_type": "code",
   "execution_count": null,
   "metadata": {},
   "outputs": [],
   "source": [
    "def getSoup(url):\n",
    "    headers = {'User-Agent': 'Mozilla/5.0 (Macintosh; Intel Mac OS X 10_10_1) AppleWebKit/537.36 (KHTML, like Gecko) Chrome/39.0.2171.95 Safari/537.36'}\n",
    "    response = requests.get(url, headers=headers)\n",
    "    soup = BeautifulSoup(response.text,\"html.parser\")\n",
    "    return soup"
   ]
  },
  {
   "cell_type": "code",
   "execution_count": null,
   "metadata": {},
   "outputs": [],
   "source": [
    "def getNumberOfPages(url):\n",
    "    soup = getSoup(url)\n",
    "    div = soup.findAll('div', {\"class\": \"Status__StatusContainer-yh17cz-0 ckWPHD\"})\n",
    "    for element in div:\n",
    "        numberOfElements = str(element).split(\"-->\")[-1].split(\"</div>\")[0]\n",
    "    numberOfPages = int(numberOfElements)/25\n",
    "    if numberOfPages > int(numberOfPages):\n",
    "        numberOfPages = int(numberOfPages) +1\n",
    "    else:\n",
    "        numberOfPages = int(numberOfPages)\n",
    "    return numberOfPages"
   ]
  },
  {
   "cell_type": "code",
   "execution_count": null,
   "metadata": {},
   "outputs": [],
   "source": [
    "getNumberOfPages(url)"
   ]
  },
  {
   "cell_type": "code",
   "execution_count": null,
   "metadata": {},
   "outputs": [],
   "source": [
    "def iterateThroughPages(url):\n",
    "    #https://www.seloger.com/immobilier/achat/immo-montigny-les-cormeilles-95/bien-appartement/?LISTING-LISTpg=2"
   ]
  },
  {
   "cell_type": "code",
   "execution_count": null,
   "metadata": {},
   "outputs": [],
   "source": [
    "def getListOfUrl(url):\n",
    "    l = []\n",
    "    soup = getSoup(url)\n",
    "    listOfUrl = soup.findAll('a', {\"z\": \"1\", \"name\": \"classified-link\"})\n",
    "    for link in listOfUrl:\n",
    "        l.append(link.get(\"href\"))\n",
    "    return l"
   ]
  },
  {
   "cell_type": "code",
   "execution_count": null,
   "metadata": {},
   "outputs": [],
   "source": [
    "listOfAnnonce = getListOfUrl(url)"
   ]
  },
  {
   "cell_type": "code",
   "execution_count": null,
   "metadata": {},
   "outputs": [],
   "source": [
    "listOfAnnonce"
   ]
  },
  {
   "cell_type": "code",
   "execution_count": null,
   "metadata": {},
   "outputs": [],
   "source": [
    "#soup = getSoup(listOfAnnonce[4])\n",
    "#soup = getSoup(\"https://www.seloger.com/annonces/achat/appartement/montigny-les-cormeilles-95/154352915.htm\")"
   ]
  },
  {
   "cell_type": "code",
   "execution_count": null,
   "metadata": {},
   "outputs": [],
   "source": [
    "def getPrix(soup):\n",
    "    try:\n",
    "        prix = soup.findAll('span',{\"class\": \"global-styles__TextNoWrap-sc-1aeotog-7 iAJdaY\"})[0].string\n",
    "        prix = int(prix.replace(\"€\",\"\").replace(\" \",\"\"))\n",
    "        return prix\n",
    "    except:\n",
    "        print(\"Error getting price:\", sys.exc_info()[0])\n",
    "        return None\n",
    "\n",
    "def getSurface(soup):\n",
    "    try:\n",
    "        surface = soup.findAll('div',{\"class\": \"Tags__TagContainer-sc-1gccxml-0 kQEoGa\"})[-1].string\n",
    "        surface = float(surface.split(\"m\")[0].replace(\",\",\".\"))\n",
    "        return surface\n",
    "    except:\n",
    "        print(\"Error getting surface:\", sys.exc_info()[0])\n",
    "        return None\n",
    "\n",
    "def getPieces(soup):\n",
    "    try:\n",
    "        pieces = soup.findAll('div',{\"class\": \"Tags__TagContainer-sc-1gccxml-0 kQEoGa\"})[0].string\n",
    "        pieces = int(pieces.split(\" \")[0])\n",
    "        return pieces\n",
    "    except:\n",
    "        print(\"Error getting pieces:\", sys.exc_info()[0])\n",
    "        return None\n",
    "\n",
    "def getChambres(soup):\n",
    "    try:\n",
    "        chambres = soup.findAll('div',{\"class\": \"Tags__TagContainer-sc-1gccxml-0 kQEoGa\"})[1].string\n",
    "        chambres = int(chambres.split(\" \")[0])\n",
    "        return chambres\n",
    "    except:\n",
    "        print(\"Error getting chambres:\", sys.exc_info()[0])\n",
    "        return None\n",
    "\n",
    "def getLots(description):\n",
    "    try:\n",
    "        if \"Copropriété de \" in description:\n",
    "            lots = int(description.split(\"Copropriété de \")[1].split(\" \")[0])\n",
    "            return lots\n",
    "        else:\n",
    "            return None\n",
    "    except:\n",
    "        print(\"Error getting lots:\", sys.exc_info()[0])\n",
    "        return None\n",
    "    \n",
    "def getCharges(description):\n",
    "    try:\n",
    "        if \"Charges annuelles: \" in description:\n",
    "            charges = float(description.split(\"Charges annuelles: \")[1].split(\" \")[0])\n",
    "            return charges\n",
    "        else:\n",
    "            return None\n",
    "    except:\n",
    "        print(\"Error getting charges:\", sys.exc_info()[0])\n",
    "        return None\n",
    "\n",
    "def getDescription(soup):\n",
    "    try:\n",
    "        description = soup.find('p').string\n",
    "        return description\n",
    "    except:\n",
    "        print(\"Error getting description:\", sys.exc_info()[0])\n",
    "        return None\n",
    "\n",
    "def getPlusList(soup):\n",
    "    l = []\n",
    "    try :\n",
    "        plusList = soup.find('div',{\"data-test\": \"plus-list\"})\n",
    "        plusList = plusList.findAll('figcaption')\n",
    "        for element in plusList:\n",
    "            l.append(element.string)\n",
    "        return l\n",
    "    except:\n",
    "        print(\"Error getting plus list:\", sys.exc_info()[0])\n",
    "        return None\n",
    "    \n",
    "def getGeneralList(soup):\n",
    "    l = []\n",
    "    try :\n",
    "        generalList = soup.findAll('li',{\"class\": \"GeneralList__Item-sc-9gtpjm-1 dsevYN\"})\n",
    "        for element in generalList:\n",
    "            l.append(element.string)\n",
    "        return l\n",
    "    except:\n",
    "        print(\"Error getting general list:\", sys.exc_info()[0])\n",
    "        return None\n",
    "    \n",
    "def getListOfData(soup):\n",
    "    l = []\n",
    "    #try:\n",
    "    div_summary = soup.find('div',{\"data-test\": \"summary\"})\n",
    "        \n",
    "    prix = getPrix(div_summary)\n",
    "    l.append(prix)\n",
    "        \n",
    "    surface = getSurface(div_summary)\n",
    "    l.append(surface)\n",
    "        \n",
    "    pieces = getPieces(div_summary)\n",
    "    l.append(pieces)\n",
    "        \n",
    "    chambres = getChambres(div_summary)\n",
    "    l.append(chambres)\n",
    "    \n",
    "    description = getDescription(soup)\n",
    "    l.append(description)\n",
    "        \n",
    "    lots = getLots(description)\n",
    "    l.append(lots)\n",
    "        \n",
    "    charges = getCharges(description)\n",
    "    l.append(charges)\n",
    "            \n",
    "    plusList = getPlusList(soup)\n",
    "    l.append(plusList)\n",
    "    \n",
    "    generalList = getGeneralList(soup)\n",
    "    l.append(generalList)\n",
    "        \n",
    "    return l\n",
    "    #except:\n",
    "        #print(\"Unexpected error:\", sys.exc_info()[0])\n",
    "        #return [None, None, None, None, None, None, None]"
   ]
  },
  {
   "cell_type": "code",
   "execution_count": null,
   "metadata": {},
   "outputs": [],
   "source": [
    "#getListOfData(soup)"
   ]
  },
  {
   "cell_type": "code",
   "execution_count": null,
   "metadata": {},
   "outputs": [],
   "source": [
    "l = []\n",
    "for annonce in listOfAnnonce:\n",
    "    print(annonce)\n",
    "    soup = getSoup(annonce)\n",
    "    listOfData = getListOfData(soup)\n",
    "    listOfData.append(annonce)\n",
    "    l.append(listOfData)\n",
    "    time.sleep(1)"
   ]
  },
  {
   "cell_type": "code",
   "execution_count": null,
   "metadata": {},
   "outputs": [],
   "source": [
    "#l"
   ]
  },
  {
   "cell_type": "code",
   "execution_count": null,
   "metadata": {},
   "outputs": [],
   "source": [
    "cols=['prix', 'surface', 'pieces', 'chambres', 'description', 'lots', 'charges', 'plusList', 'generalList', 'url']\n",
    "df = pd.DataFrame.from_records(l, columns=cols)"
   ]
  },
  {
   "cell_type": "code",
   "execution_count": null,
   "metadata": {},
   "outputs": [],
   "source": [
    "def cleanDf(df):\n",
    "    return df.dropna(subset=[\"prix\"])"
   ]
  },
  {
   "cell_type": "code",
   "execution_count": null,
   "metadata": {},
   "outputs": [],
   "source": [
    "dfCleaned = cleanDf(df)\n",
    "dfCleaned"
   ]
  },
  {
   "cell_type": "code",
   "execution_count": null,
   "metadata": {},
   "outputs": [],
   "source": [
    "def haveCave(row):\n",
    "    if row[\"plusList\"] is not None:\n",
    "        for item in row[\"plusList\"]:\n",
    "            if \"CAVE\" in item.upper():\n",
    "                return 1\n",
    "        return 0\n",
    "    return None\n",
    "\n",
    "def haveBalcon(row):\n",
    "    if row[\"plusList\"] is not None:\n",
    "        for item in row[\"plusList\"]:\n",
    "            if \"BALCON\" in item.upper():\n",
    "                return 1\n",
    "        return 0\n",
    "    return None\n",
    "\n",
    "def haveAscenseur(row):\n",
    "    if row[\"plusList\"] is not None:\n",
    "        for item in row[\"plusList\"]:\n",
    "            if \"ASCENSEUR\" in item.upper():\n",
    "                return 1\n",
    "        return 0\n",
    "    return None"
   ]
  },
  {
   "cell_type": "code",
   "execution_count": null,
   "metadata": {},
   "outputs": [],
   "source": [
    "def fromListToColumns(df):\n",
    "    df['cave'] = df.apply(lambda row: haveCave(row), axis=1)\n",
    "    df['balcon'] = df.apply(lambda row: haveBalcon(row), axis=1)\n",
    "    df['ascenseur'] = df.apply(lambda row: haveAscenseur(row), axis=1)\n",
    "    return df"
   ]
  },
  {
   "cell_type": "code",
   "execution_count": null,
   "metadata": {},
   "outputs": [],
   "source": [
    "df = fromListToColumns(df)"
   ]
  },
  {
   "cell_type": "code",
   "execution_count": null,
   "metadata": {},
   "outputs": [],
   "source": [
    "df"
   ]
  },
  {
   "cell_type": "code",
   "execution_count": null,
   "metadata": {},
   "outputs": [],
   "source": []
  }
 ],
 "metadata": {
  "kernelspec": {
   "display_name": "Python 3",
   "language": "python",
   "name": "python3"
  },
  "language_info": {
   "codemirror_mode": {
    "name": "ipython",
    "version": 3
   },
   "file_extension": ".py",
   "mimetype": "text/x-python",
   "name": "python",
   "nbconvert_exporter": "python",
   "pygments_lexer": "ipython3",
   "version": "3.7.4"
  }
 },
 "nbformat": 4,
 "nbformat_minor": 2
}
